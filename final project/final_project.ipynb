{
 "cells": [
  {
   "cell_type": "code",
   "execution_count": 1,
   "metadata": {},
   "outputs": [
    {
     "name": "stdout",
     "output_type": "stream",
     "text": [
      "     Country        Week  Position                   Track Name        Artist  \\\n",
      "0  Argentina  2019-01-25         1                Calma - Remix    Pedro Capó   \n",
      "1  Argentina  2019-01-25         2                   Adan y Eva  Paulo Londra   \n",
      "2  Argentina  2019-01-25         3  Sin Culpa (feat. DrefQuila)          Duki   \n",
      "3  Argentina  2019-01-25         4            MIA (feat. Drake)     Bad Bunny   \n",
      "4  Argentina  2019-01-25         5                     Adictiva  Daddy Yankee   \n",
      "\n",
      "   Streams                                                URL  \n",
      "0  3185524  https://open.spotify.com/track/5iwz1NiezX7WWjn...  \n",
      "1  2354327  https://open.spotify.com/track/6FyRXC8tJUh863J...  \n",
      "2  1465656  https://open.spotify.com/track/3dLiBBKbeUIhzGN...  \n",
      "3  1429652  https://open.spotify.com/track/116H0KvKr2Zl4RP...  \n",
      "4  1404838  https://open.spotify.com/track/6MJUCumnQsQEKbC...  \n"
     ]
    }
   ],
   "source": [
    "import pandas as pd\n",
    "\n",
    "# Load data\n",
    "df = pd.read_csv(\"spotify-charts.csv\")\n",
    "\n",
    "# Lihat 5 baris pertama\n",
    "print(df.head())"
   ]
  },
  {
   "cell_type": "code",
   "execution_count": 3,
   "metadata": {},
   "outputs": [
    {
     "name": "stdout",
     "output_type": "stream",
     "text": [
      "Index(['Category', 'Merk', 'Product', 'Price', 'OverallRating', 'Reviewer'], dtype='object')\n",
      "Index(['Product', 'UserName', 'SkinCond_Age', 'Recommend', 'PostDate',\n",
      "       'Review', 'Rating'],\n",
      "      dtype='object')\n"
     ]
    }
   ],
   "source": [
    "info = pd.read_csv(\"data skincare/00. InfoProduct.csv\")\n",
    "print(info.columns)\n",
    "\n",
    "review = pd.read_csv(\"data skincare/00. Review.csv\")\n",
    "print(review.columns)"
   ]
  },
  {
   "cell_type": "code",
   "execution_count": 6,
   "metadata": {},
   "outputs": [],
   "source": [
    "import pandas as pd\n",
    "\n",
    "# Load kedua file CSV\n",
    "info_df = pd.read_csv(\"data skincare/00. InfoProduct.csv\")\n",
    "review_df = pd.read_csv(\"data skincare/00. Review.csv\")\n",
    "\n",
    "# Gabungkan kedua data dengan join di kolom 'Product'\n",
    "merged_df = pd.merge(review_df, info_df, on=\"Product\", how=\"left\")\n",
    "merged_df\n",
    "\n",
    "merged_df.to_csv(\"skincare_merged.csv\", index=False)                        \n"
   ]
  }
 ],
 "metadata": {
  "kernelspec": {
   "display_name": "base",
   "language": "python",
   "name": "python3"
  },
  "language_info": {
   "codemirror_mode": {
    "name": "ipython",
    "version": 3
   },
   "file_extension": ".py",
   "mimetype": "text/x-python",
   "name": "python",
   "nbconvert_exporter": "python",
   "pygments_lexer": "ipython3",
   "version": "3.9.20"
  }
 },
 "nbformat": 4,
 "nbformat_minor": 2
}
